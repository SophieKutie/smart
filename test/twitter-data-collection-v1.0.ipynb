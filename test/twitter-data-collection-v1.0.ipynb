{
 "cells": [
  {
   "cell_type": "code",
   "execution_count": 10,
   "metadata": {
    "pycharm": {
     "is_executing": false
    }
   },
   "outputs": [],
   "source": [
    "from tweepy.streaming import StreamListener\n",
    "from tweepy import OAuthHandler\n",
    "from tweepy import Stream\n",
    "from tweepy import API as api\n",
    "from tweepy import Cursor\n",
    "import tweepy\n",
    "import time\n",
    "import json\n",
    "import pandas as pd\n",
    "import matplotlib.pyplot as plt\n",
    "import re\n",
    "import os, sys\n",
    "import pprint\n",
    "import matplotlib.pyplot as plt\n",
    "import math\n",
    "import random\n",
    "import csv"
   ]
  },
  {
   "cell_type": "code",
   "execution_count": 11,
   "metadata": {
    "pycharm": {
     "is_executing": false
    }
   },
   "outputs": [
    {
     "name": "stdout",
     "output_type": "stream",
     "text": [
      "term files ['meghan.csv']\n",
      "['Meghan Markle', 'Meghan', '#HarryandMeghan']\n"
     ]
    }
   ],
   "source": [
    "'''\n",
    "get a list of hateful terms. These are collected from hatebase.org using the hatespeech-vocabulary-collection script \n",
    "stored in hatespeech-terms.csv file\n",
    "csv_file_name should include the full path to the file\n",
    "the file should be formatted as one column labelled 'term' and as many terms as required\n",
    "\n",
    "term\n",
    "term 1\n",
    "term 2\n",
    "term 3\n",
    "...\n",
    "'''\n",
    "def get_hate_terms(csv_file_name):\n",
    "    terms = pd.read_csv(csv_file_name, encoding='utf')   ### option for manual input\n",
    "    #terms.sort_values('term', inplace=True)\n",
    "    #print('Before removing duplicated terms: ', terms.count())\n",
    "    terms.drop_duplicates(keep='first', inplace=True)\n",
    "    #print('After removing duplicated terms: ',  terms.count())\n",
    "    return terms['terms'].astype(str).values.tolist()\n",
    "\n",
    "# read the terms from a folder\n",
    "# the terms_files directory should include one or more csv files with terms in them\n",
    "terms_file = os.listdir('../media')\n",
    "print ('term files', terms_file)\n",
    "terms = []\n",
    "for i in terms_file:\n",
    "    terms += get_hate_terms('../media/'+i)\n",
    "\n",
    "\n",
    "print(terms)"
   ]
  },
  {
   "cell_type": "code",
   "execution_count": 12,
   "metadata": {
    "pycharm": {
     "is_executing": false
    },
    "scrolled": true
   },
   "outputs": [
    {
     "name": "stdout",
     "output_type": "stream",
     "text": [
      "Number of lists of terms to process: 1\n",
      "Start time on the following list 2020-04-15, 00:54:48 of length 3\n",
      "['Meghan Markle', 'Meghan', '#HarryandMeghan']\n",
      "Finished time 2020-04-15, 00:54:48\n"
     ]
    }
   ],
   "source": [
    "'''\n",
    "Twitter only accepts n number of terms at a time\n",
    "Use this function if we have a large number of terms so we supply twitter with small list of terms in each API call\n",
    "return randomised list of terms\n",
    "'''\n",
    "def get_list_of_list(list_of_terms, sublist_size):\n",
    "    random_list = random.sample(list_of_terms, len(list_of_terms)) \n",
    "    for i in range(0, len(random_list), sublist_size):\n",
    "        # Create an index range for l of n items:\n",
    "        yield random_list[i:i+sublist_size]\n",
    " \n",
    "term_list = list(get_list_of_list(terms, 10))\n",
    "print('Number of lists of terms to process: %d'%len(term_list))\n",
    "for t in term_list:\n",
    "    print('Start time on the following list %s of length %d'%(time.strftime(\"%Y-%m-%d, %H:%M:%S\"), len(t)))\n",
    "    print(t)\n",
    "    \n",
    "print('Finished time %s'%time.strftime(\"%Y-%m-%d, %H:%M:%S\"))  "
   ]
  },
  {
   "cell_type": "code",
   "execution_count": 13,
   "metadata": {
    "pycharm": {
     "is_executing": false
    },
    "scrolled": true
   },
   "outputs": [],
   "source": [
    "accesstoken = '1192071683483557888-JsajbXeIZV4yO7heVLBiyKoLmcwE2D'\n",
    "accesstokensecret = 'iHopL1lf1l7vYQw13sbtNpumfRyjJ3JOoPXMwtadj8uSm'\n",
    "consumerkey = '4nmllrY1s4k2x8ClNEMA4Ohvd'\n",
    "consumersecret = 'GBmKtYX2wrGVDxbGn2kPbYbuD4wUGEq2i6RVI1dzT8jCmgGxYX'\n",
    " \n",
    "authorization = OAuthHandler(consumerkey, consumersecret)\n",
    "authorization.set_access_token(accesstoken, accesstokensecret)\n",
    "\n",
    "class MyStreamListener(StreamListener):\n",
    "\n",
    "    def __init__(self, output_file):\n",
    "        self.output_file = output_file\n",
    "        self.siesta = 0\n",
    "        self.nightnight = 0\n",
    "        self.start_time = time.time()\n",
    "        self.time_limit = time_limit\n",
    "        self.tweet_file = open(self.output_file, 'a')\n",
    "        \n",
    "        super(MyStreamListener, self).__init__()\n",
    "\n",
    "    def on_status(self, status):\n",
    "        if (time.time() - self.start_time) < self.time_limit:\n",
    "            try:\n",
    "                if 'extended_tweet' in status._json:\n",
    "                    json.dump(status._json, self.tweet_file)\n",
    "                    self.tweet_file.write(\"%s\"%'\\n')\n",
    "            except  Exception as e:\n",
    "                print('failed on writing data to file:', e)\n",
    "                pass\n",
    "            return True\n",
    "        else:\n",
    "            self.tweet_file.close()\n",
    "            return False\n",
    "           \n",
    "    def on_error(self, status_code):\n",
    "        print('Error:', str(status_code))\n",
    "        if status_code == 420:\n",
    "            sleepy = 60 * math.pow(2, self.siesta)\n",
    "            print(time.strftime(\"%Y%m%d_%H%M%S\"))\n",
    "            print(\"A reconnection attempt will occur in \" + str(sleepy/60) + \" minutes.\")\n",
    "            print('''\n",
    "            *******************************************************************\n",
    "            From Twitter Streaming API Documentation\n",
    "            420: Rate Limited\n",
    "            The client has connected too frequently. For example, an \n",
    "            endpoint returns this status if:\n",
    "            - A client makes too many login attempts in a short period \n",
    "              of time.\n",
    "            - Too many copies of an application attempt to authenticate \n",
    "              with the same credentials.\n",
    "            *******************************************************************\n",
    "            ''')\n",
    "            time.sleep(sleepy)\n",
    "            self.siesta += 1\n",
    "        else:\n",
    "            sleepy = 5 * math.pow(2, self.nightnight)\n",
    "            print(time.strftime(\"%Y%m%d_%H%M%S\"))\n",
    "            print('A reconnection attempt will occur in ', str(sleepy), ' seconds.')\n",
    "            time.sleep(sleepy)\n",
    "            self.nightnight += 1\n",
    "        return True     \n",
    "        \n",
    "    def on_limit(self, track):\n",
    "        sleepy = 5 * math.pow(2, self.nightnight)\n",
    "        print(time.strftime(\"%Y%m%d_%H%M%S\"))\n",
    "        print('A reconnection attempt will occur in ', str(sleepy), ' seconds.')\n",
    "        time.sleep(sleepy)\n",
    "        self.nightnight += 1\n",
    "        sys.stderr.write(\"on_limit  \" + track + \"\\n\")\n",
    "        return True\n",
    "    \n",
    "    def on_timeout(self):\n",
    "        sleepy = 5 * math.pow(2, self.nightnight)\n",
    "        print(time.strftime(\"%Y%m%d_%H%M%S\"))\n",
    "        print('Timeout ', str(sleepy), ' seconds.')\n",
    "        time.sleep(sleepy)\n",
    "        self.nightnight += 1\n",
    "        return True  "
   ]
  },
  {
   "cell_type": "code",
   "execution_count": null,
   "metadata": {
    "pycharm": {
     "is_executing": true
    },
    "scrolled": true
   },
   "outputs": [
    {
     "name": "stdout",
     "output_type": "stream",
     "text": [
      "Number of lists of terms to process: 3\n",
      "\n",
      "1  out of  1000  repition.\n",
      "\n",
      "\t 1  out of   3   sets of terms.\n",
      "\n",
      "Start time on the following list 2020-03-31, 14:35:33\n",
      "\n",
      "['pussy', 'twat', 'Meghan', 'bitch', 'slut', 'cow', 'slag', 'bint', 'cunt', 'controlling'] \n",
      "\n",
      "\t 2  out of   3   sets of terms.\n",
      "\n",
      "Start time on the following list 2020-03-31, 14:41:36\n",
      "\n",
      "['cow', 'black bitch', 'whore', 'Meghan Markle', 'skank', 'tart', 'witch', 'dyke', 'lezza', 'trollop'] \n",
      "\n",
      "\t 3  out of   3   sets of terms.\n",
      "\n",
      "Start time on the following list 2020-03-31, 14:47:39\n",
      "\n",
      "['lesbo', 'bimbo', '#HarryandMeghan', 'ho', 'hag', 'feminazi'] \n",
      "\n",
      "Finished round: 1 at time 2020-03-31, 14:53:43\n",
      "Number of lists of terms to process: 3\n",
      "\n",
      "2  out of  1000  repition.\n",
      "\n",
      "\t 1  out of   3   sets of terms.\n",
      "\n",
      "Start time on the following list 2020-03-31, 14:53:43\n",
      "\n",
      "['pussy', 'twat', 'Meghan', 'bitch', 'slut', 'cow', 'slag', 'bint', 'cunt', 'controlling'] \n",
      "\n",
      "\t 2  out of   3   sets of terms.\n",
      "\n",
      "Start time on the following list 2020-03-31, 14:59:48\n",
      "\n",
      "['cow', 'black bitch', 'whore', 'Meghan Markle', 'skank', 'tart', 'witch', 'dyke', 'lezza', 'trollop'] \n",
      "\n",
      "\t 3  out of   3   sets of terms.\n",
      "\n",
      "Start time on the following list 2020-03-31, 15:05:53\n",
      "\n",
      "['lesbo', 'bimbo', '#HarryandMeghan', 'ho', 'hag', 'feminazi'] \n",
      "\n",
      "Finished round: 2 at time 2020-03-31, 15:11:57\n",
      "Number of lists of terms to process: 3\n",
      "\n",
      "3  out of  1000  repition.\n",
      "\n",
      "\t 1  out of   3   sets of terms.\n",
      "\n",
      "Start time on the following list 2020-03-31, 15:11:57\n",
      "\n",
      "['pussy', 'twat', 'Meghan', 'bitch', 'slut', 'cow', 'slag', 'bint', 'cunt', 'controlling'] \n",
      "\n",
      "\t 2  out of   3   sets of terms.\n",
      "\n",
      "Start time on the following list 2020-03-31, 15:18:00\n",
      "\n",
      "['cow', 'black bitch', 'whore', 'Meghan Markle', 'skank', 'tart', 'witch', 'dyke', 'lezza', 'trollop'] \n",
      "\n",
      "\t 3  out of   3   sets of terms.\n",
      "\n",
      "Start time on the following list 2020-03-31, 15:24:04\n",
      "\n",
      "['lesbo', 'bimbo', '#HarryandMeghan', 'ho', 'hag', 'feminazi'] \n",
      "\n"
     ]
    }
   ],
   "source": [
    "# \n",
    "#terms = get_hate_terms(terms)\n",
    "term_list = list(get_list_of_list(terms, 10))\n",
    "time_limit = 360 # in seconds\n",
    "\n",
    "# the following goes through the list of terms, which is a list of list\n",
    "# each sublist takes about 6 minutes, you can change the time limit for each list by resetting the time_limit variable value\n",
    "# we feed all the sublists (the full terms in the csv file) in onr hous\n",
    "for i in range(1, 1000): \n",
    "    print('Number of lists of terms to process: %d\\n'%len(term_list))\n",
    "    print(i, ' out of  1000  repition.\\n')\n",
    "    k = 0\n",
    "    for terms in term_list:\n",
    "        k += 1\n",
    "        print('\\t', k, ' out of  ',len(term_list),'  sets of terms.\\n')\n",
    "        print('Start time on the following list %s\\n'%time.strftime(\"%Y-%m-%d, %H:%M:%S\"))\n",
    "        print(terms,'\\n')\n",
    "        start_time = time.time() \n",
    "        \n",
    "        try:\n",
    "            twitterStream = Stream(authorization, MyStreamListener('./data/tweets.json'))\n",
    "            twitterStream.filter(track=terms, languages=[\"en\"], stall_warnings=True)\n",
    "            if (time.time() - start_time) < time.time()+time_limit:\n",
    "                \n",
    "                #print('------------sleeping for 3 seconds------------------')\n",
    "                time.sleep(3)\n",
    "        except Exception as e:\n",
    "            print(e)\n",
    "            print(e.__doc__) \n",
    "        \n",
    "    #time.sleep(905)    \n",
    "    print('Finished round: %d at time %s'%(i, time.strftime(\"%Y-%m-%d, %H:%M:%S\"))) "
   ]
  },
  {
   "cell_type": "code",
   "execution_count": null,
   "metadata": {
    "pycharm": {
     "is_executing": true
    }
   },
   "outputs": [],
   "source": []
  },
  {
   "cell_type": "code",
   "execution_count": null,
   "metadata": {
    "pycharm": {
     "is_executing": true
    }
   },
   "outputs": [],
   "source": []
  },
  {
   "cell_type": "code",
   "execution_count": null,
   "metadata": {
    "pycharm": {
     "is_executing": true
    }
   },
   "outputs": [],
   "source": []
  }
 ],
 "metadata": {
  "kernelspec": {
   "display_name": "Python 3",
   "language": "python",
   "name": "python3"
  },
  "language_info": {
   "codemirror_mode": {
    "name": "ipython",
    "version": 3
   },
   "file_extension": ".py",
   "mimetype": "text/x-python",
   "name": "python",
   "nbconvert_exporter": "python",
   "pygments_lexer": "ipython3",
   "version": "3.7.4"
  },
  "pycharm": {
   "stem_cell": {
    "cell_type": "raw",
    "metadata": {
     "collapsed": false
    },
    "source": []
   }
  }
 },
 "nbformat": 4,
 "nbformat_minor": 2
}
